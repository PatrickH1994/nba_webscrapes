{
 "cells": [
  {
   "cell_type": "code",
   "execution_count": 1,
   "id": "271d6c2c",
   "metadata": {},
   "outputs": [],
   "source": [
    "from bs4 import BeautifulSoup\n",
    "import pandas as pd\n",
    "import requests\n",
    "import re"
   ]
  },
  {
   "cell_type": "code",
   "execution_count": 2,
   "id": "12c23cdb",
   "metadata": {},
   "outputs": [],
   "source": [
    "\"\"\"\n",
    "Gets all the coaches tags from basketball-reference.com. These tags include the URL for the coach's own page.\n",
    "\"\"\"\n",
    "\n",
    "tag_lst = []\n",
    "\n",
    "for season in range(1997, 2021):\n",
    "    page = requests.get(\"https://www.basketball-reference.com/leagues/NBA_{}_coaches.html\".format(season))\n",
    "    soup = BeautifulSoup(page.content, 'html.parser')\n",
    "    for tag in soup.find_all('a'):\n",
    "        if re.search('<a href=\"/coaches/', str(tag)) and re.search('html', str(tag)):\n",
    "            tag_lst.append(tag)\n",
    "\n",
    "# Remove duplicates            \n",
    "tag_lst = list(dict.fromkeys(tag_lst))"
   ]
  },
  {
   "cell_type": "code",
   "execution_count": 3,
   "id": "ef7b4bc1",
   "metadata": {},
   "outputs": [],
   "source": [
    "\"\"\"\n",
    "Creates a df with the coach's name and url to their page.\n",
    "\"\"\"\n",
    "coach_lst = []\n",
    "i = 1\n",
    "for tag in tag_lst:\n",
    "    temp_lst = []\n",
    "    temp_lst.append(i)\n",
    "    i+=1\n",
    "    for name in tag:\n",
    "        temp_lst.append(name)\n",
    "    temp_lst.append(\"https://www.basketball-reference.com\" + str(tag).split('\"')[1])\n",
    "    \n",
    "    coach_lst.append(temp_lst)\n",
    "    \n",
    "coach_df = pd.DataFrame(coach_lst, columns=['coach_id','coachName', 'url'])"
   ]
  },
  {
   "cell_type": "code",
   "execution_count": 8,
   "id": "5f855173",
   "metadata": {},
   "outputs": [],
   "source": [
    "\"\"\"\n",
    "Collects the on the coaches\n",
    "\"\"\"\n",
    "\n",
    "df = pd.DataFrame(columns=['Season', 'Age', 'Tm', 'Lg', 'G', 'W', 'L', 'W/L%', 'W > .500',\n",
    "       'Finish', 'G', 'W', 'L', 'W/L%', 'Notes', 'coachName', 'coach_id'])\n",
    "\n",
    "for i, row in coach_df.iterrows():\n",
    "    table = pd.io.html.read_html(row['url'])\n",
    "    indexNames = list(dict.fromkeys([i[0] for i in table[0].columns]))\n",
    "    temp_df = pd.DataFrame()\n",
    "    for ind in indexNames:\n",
    "        temp_df = pd.concat([temp_df, table[0][ind]], axis=1)\n",
    "    temp_df['coachName'] = row.coachName\n",
    "    temp_df['coach_id'] = row.coach_id\n",
    "    temp_df.drop(columns=['Unnamed: 10_level_1'], inplace=True)\n",
    "    \n",
    "    df = pd.concat([df, temp_df])"
   ]
  },
  {
   "cell_type": "code",
   "execution_count": 9,
   "id": "be2afac6",
   "metadata": {},
   "outputs": [],
   "source": [
    "\"\"\"\n",
    "Cut values that do not include data on the season level and create seasonStartYear variable\n",
    "\"\"\" \n",
    "\n",
    "def createMask(season):\n",
    "    if len(str(season).split('-'))==2:\n",
    "        return True\n",
    "    else:\n",
    "        return False\n",
    "    \n",
    "mask = df.Season.apply(createMask)\n",
    "\n",
    "df = df[mask]\n",
    "\n",
    "#Create season start year\n",
    "\n",
    "df['seasonStartYear'] = df.Season.apply(lambda x: int(x.split('-')[0]))\n",
    "df.drop(columns=['Season'], inplace=True)\n",
    "\n",
    "df.set_axis(['Age', 'Tm', 'Lg', 'G_reg', 'W_reg', 'L_reg', 'W/L%_reg', 'W > .500', 'Finish', 'G_playoff',\n",
    "       'W_playoff', 'L_playoff', 'W/L%_playoff', 'Notes', 'coachName', 'coach_id', 'seasonStartYear'], axis = 1, inplace=True)"
   ]
  },
  {
   "cell_type": "code",
   "execution_count": 15,
   "id": "80ad7c5b",
   "metadata": {},
   "outputs": [],
   "source": [
    "\"\"\"\n",
    "Define coach type\n",
    "\"\"\"\n",
    "\n",
    "def defineCoachType(x):\n",
    "    try:\n",
    "        int(x)\n",
    "        return \"Head Coach\"\n",
    "    except:\n",
    "        if x=='Player Development':\n",
    "            return x\n",
    "        else:\n",
    "            return x.split('Coach')[0] + 'Coach'\n",
    "\n",
    "df['coachType'] = df.G_reg.apply(defineCoachType)"
   ]
  },
  {
   "cell_type": "code",
   "execution_count": 20,
   "id": "8c518fcc",
   "metadata": {},
   "outputs": [],
   "source": [
    "\"\"\"\n",
    "Cut observations that are not on the season level. E.g. some rows had information about the coach's career.\n",
    "\"\"\"\n",
    "\n",
    "def isNumber(x):\n",
    "    try:\n",
    "        int(x)\n",
    "        return True\n",
    "    except:\n",
    "        return False\n",
    "    \n",
    "mask = df.G_reg.apply(isNumber)\n",
    "df = df[mask].copy()"
   ]
  },
  {
   "cell_type": "code",
   "execution_count": 21,
   "id": "97f077c5",
   "metadata": {},
   "outputs": [],
   "source": [
    "df.to_csv(\"coaches.csv\", index=False)"
   ]
  }
 ],
 "metadata": {
  "kernelspec": {
   "display_name": "Python 3 (ipykernel)",
   "language": "python",
   "name": "python3"
  },
  "language_info": {
   "codemirror_mode": {
    "name": "ipython",
    "version": 3
   },
   "file_extension": ".py",
   "mimetype": "text/x-python",
   "name": "python",
   "nbconvert_exporter": "python",
   "pygments_lexer": "ipython3",
   "version": "3.8.12"
  }
 },
 "nbformat": 4,
 "nbformat_minor": 5
}
