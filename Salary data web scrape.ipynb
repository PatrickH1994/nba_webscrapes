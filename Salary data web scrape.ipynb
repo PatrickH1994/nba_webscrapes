{
 "cells": [
  {
   "cell_type": "code",
   "execution_count": 3,
   "id": "a68d8a1e",
   "metadata": {},
   "outputs": [],
   "source": [
    "import pandas as pd"
   ]
  },
  {
   "cell_type": "code",
   "execution_count": 4,
   "id": "b9662e43",
   "metadata": {},
   "outputs": [
    {
     "data": {
      "text/html": [
       "<div>\n",
       "<style scoped>\n",
       "    .dataframe tbody tr th:only-of-type {\n",
       "        vertical-align: middle;\n",
       "    }\n",
       "\n",
       "    .dataframe tbody tr th {\n",
       "        vertical-align: top;\n",
       "    }\n",
       "\n",
       "    .dataframe thead th {\n",
       "        text-align: right;\n",
       "    }\n",
       "</style>\n",
       "<table border=\"1\" class=\"dataframe\">\n",
       "  <thead>\n",
       "    <tr style=\"text-align: right;\">\n",
       "      <th></th>\n",
       "      <th>Player</th>\n",
       "      <th>1990/91</th>\n",
       "      <th>1990/91(*)</th>\n",
       "    </tr>\n",
       "  </thead>\n",
       "  <tbody>\n",
       "    <tr>\n",
       "      <th>0</th>\n",
       "      <td>Patrick Ewing</td>\n",
       "      <td>$4,250,000</td>\n",
       "      <td>$8,889,207</td>\n",
       "    </tr>\n",
       "    <tr>\n",
       "      <th>1</th>\n",
       "      <td>Hot Rod Williams</td>\n",
       "      <td>$3,785,000</td>\n",
       "      <td>$7,916,623</td>\n",
       "    </tr>\n",
       "    <tr>\n",
       "      <th>2</th>\n",
       "      <td>Hakeem Olajuwon</td>\n",
       "      <td>$3,175,000</td>\n",
       "      <td>$6,640,760</td>\n",
       "    </tr>\n",
       "    <tr>\n",
       "      <th>3</th>\n",
       "      <td>Charles Barkley</td>\n",
       "      <td>$2,900,000</td>\n",
       "      <td>$6,065,576</td>\n",
       "    </tr>\n",
       "    <tr>\n",
       "      <th>4</th>\n",
       "      <td>Chris Mullin</td>\n",
       "      <td>$2,850,000</td>\n",
       "      <td>$5,960,997</td>\n",
       "    </tr>\n",
       "    <tr>\n",
       "      <th>...</th>\n",
       "      <td>...</td>\n",
       "      <td>...</td>\n",
       "      <td>...</td>\n",
       "    </tr>\n",
       "    <tr>\n",
       "      <th>347</th>\n",
       "      <td>Alan Bannister</td>\n",
       "      <td>$50,000</td>\n",
       "      <td>$104,578</td>\n",
       "    </tr>\n",
       "    <tr>\n",
       "      <th>348</th>\n",
       "      <td>Tony Brown</td>\n",
       "      <td>$50,000</td>\n",
       "      <td>$104,578</td>\n",
       "    </tr>\n",
       "    <tr>\n",
       "      <th>349</th>\n",
       "      <td>A.J. Wynder</td>\n",
       "      <td>$30,000</td>\n",
       "      <td>$62,747</td>\n",
       "    </tr>\n",
       "    <tr>\n",
       "      <th>350</th>\n",
       "      <td>Kelvin Upshaw</td>\n",
       "      <td>$30,000</td>\n",
       "      <td>$62,747</td>\n",
       "    </tr>\n",
       "    <tr>\n",
       "      <th>351</th>\n",
       "      <td>Anthony Frederick</td>\n",
       "      <td>$30,000</td>\n",
       "      <td>$62,747</td>\n",
       "    </tr>\n",
       "  </tbody>\n",
       "</table>\n",
       "<p>352 rows × 3 columns</p>\n",
       "</div>"
      ],
      "text/plain": [
       "                Player     1990/91  1990/91(*)\n",
       "0        Patrick Ewing  $4,250,000  $8,889,207\n",
       "1     Hot Rod Williams  $3,785,000  $7,916,623\n",
       "2      Hakeem Olajuwon  $3,175,000  $6,640,760\n",
       "3      Charles Barkley  $2,900,000  $6,065,576\n",
       "4         Chris Mullin  $2,850,000  $5,960,997\n",
       "..                 ...         ...         ...\n",
       "347     Alan Bannister     $50,000    $104,578\n",
       "348         Tony Brown     $50,000    $104,578\n",
       "349        A.J. Wynder     $30,000     $62,747\n",
       "350      Kelvin Upshaw     $30,000     $62,747\n",
       "351  Anthony Frederick     $30,000     $62,747\n",
       "\n",
       "[352 rows x 3 columns]"
      ]
     },
     "execution_count": 4,
     "metadata": {},
     "output_type": "execute_result"
    }
   ],
   "source": [
    "#Example of what the table from each page looks like\n",
    "url = 'https://hoopshype.com/salaries/players/1990-1991/'\n",
    "table = pd.io.html.read_html(url)\n",
    "table[0].drop(columns=['Unnamed: 0'])"
   ]
  },
  {
   "cell_type": "code",
   "execution_count": 5,
   "id": "3f4527a7",
   "metadata": {},
   "outputs": [],
   "source": [
    "\"\"\"\n",
    "I scrape the data for seasons 1996-97 to 2020-21. \n",
    "\"\"\"\n",
    "df = pd.DataFrame(columns=['playerName', 'season_start_year', 'salary', 'inflationAdjSalary'])\n",
    "for year in range(1997, 2021):\n",
    "    url = 'https://hoopshype.com/salaries/players/{}-{}/'.format(year-1, year)\n",
    "    table = pd.io.html.read_html(url)[0]\n",
    "    table.drop(columns=['Unnamed: 0'], inplace=True)\n",
    "    table.set_axis(['playerName', 'salary', 'inflationAdjSalary'], axis=1, inplace=True)\n",
    "    table['season_start_year'] = year - 1\n",
    "    \n",
    "    df = pd.concat([df, table])\n"
   ]
  },
  {
   "cell_type": "code",
   "execution_count": 6,
   "id": "74e743f3",
   "metadata": {},
   "outputs": [],
   "source": [
    "df.to_csv(\"salaries.csv\", index=False)"
   ]
  }
 ],
 "metadata": {
  "kernelspec": {
   "display_name": "Python 3 (ipykernel)",
   "language": "python",
   "name": "python3"
  },
  "language_info": {
   "codemirror_mode": {
    "name": "ipython",
    "version": 3
   },
   "file_extension": ".py",
   "mimetype": "text/x-python",
   "name": "python",
   "nbconvert_exporter": "python",
   "pygments_lexer": "ipython3",
   "version": "3.8.12"
  }
 },
 "nbformat": 4,
 "nbformat_minor": 5
}
