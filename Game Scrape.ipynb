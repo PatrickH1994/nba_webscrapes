{
 "cells": [
  {
   "cell_type": "code",
   "execution_count": 1,
   "id": "8aca8a08",
   "metadata": {},
   "outputs": [
    {
     "name": "stdout",
     "output_type": "stream",
     "text": [
      "Processed games for year, month: (2023, january)\n",
      "Processed games for year, month: (2023, february)\n",
      "Processed games for year, month: (2023, march)\n",
      "Processed games for year, month: (2023, april)\n",
      "Processed games for year, month: (2023, may)\n",
      "Processed games for year, month: (2023, june)\n",
      "Processed games for year, month: (2023, october)\n",
      "Processed games for year, month: (2023, november)\n",
      "Processed games for year, month: (2023, december)\n"
     ]
    }
   ],
   "source": [
    "import pandas as pd\n",
    "import time\n",
    "import random\n",
    "import requests\n",
    "import uuid\n",
    "\n",
    "start_year = 2023\n",
    "end_year = 2024\n",
    "blacklist = [(2020, 'april'), (2021, 'october'), (2021, 'november')]\n",
    "months = ['january', 'february', 'march', 'april', 'may', 'june', 'october', 'november', 'december']\n",
    "\n",
    "df = pd.DataFrame(columns=['Date', 'season_start_year', 'Visitor/Neutral', 'PTS', 'Home/Neutral', 'PTS.1', 'Unnamed: 5', 'Unnamed: 6', 'Attend.', 'Notes'])\n",
    "\n",
    "for year in range(start_year, end_year):\n",
    "    for month in months:\n",
    "        if (year, month) in blacklist: continue\n",
    "        url = 'https://www.basketball-reference.com/leagues/NBA_{}_games-{}.html'.format(year, month)\n",
    "        for attempt in range(5):  # retry up to 5 times\n",
    "            response = requests.get(url)\n",
    "            if response.status_code == 429:\n",
    "                retry_after = int(response.headers.get('Retry-After', 10))  # default to 10 seconds if header is missing\n",
    "                print(f'Rate limited. Retrying in {retry_after} seconds...')\n",
    "                time.sleep(retry_after)\n",
    "            elif response.status_code == 200:\n",
    "                try:\n",
    "                    yearMonth_table = pd.read_html(response.content)[0]\n",
    "                    yearMonth_table['season_start_year'] = year - 1\n",
    "                    df = pd.concat([df, yearMonth_table])\n",
    "                    print(f'Processed games for year, month: ({year}, {month})')\n",
    "                    break  # exit retry loop on success\n",
    "                except Exception as e:\n",
    "                    print(f'Failed to parse the page: {e}')\n",
    "                    if str(e) == \"No tables found\":\n",
    "                        # Bail early if there isn't a table at this endpoint\n",
    "                        break\n",
    "                    time.sleep(10)\n",
    "            else:\n",
    "                if response.status_code == 404:\n",
    "                    print(f\"404 encountered for year, month: ({year}, {month}). Skipping.\")\n",
    "                    break\n",
    "                print(f'Failed with status {response.status_code} for year, month: ({year}, {month}). Retrying in 5 seconds...')\n",
    "                time.sleep(5)\n",
    "            # Random delay to avoid being blocked\n",
    "            time.sleep(random.uniform(5, 15))\n"
   ]
  },
  {
   "cell_type": "code",
   "execution_count": 2,
   "id": "c4e7f606",
   "metadata": {},
   "outputs": [
    {
     "data": {
      "text/plain": [
       "Date               1320\n",
       "seasonStartYear    1320\n",
       "Visitor/Neutral    1320\n",
       "PTS                1320\n",
       "Home/Neutral       1320\n",
       "PTS.1              1320\n",
       "Unnamed: 5            0\n",
       "Unnamed: 6         1320\n",
       "Attend.            1318\n",
       "Notes                 6\n",
       "Start (ET)         1320\n",
       "Unnamed: 7           84\n",
       "Arena              1320\n",
       "dtype: int64"
      ]
     },
     "execution_count": 2,
     "metadata": {},
     "output_type": "execute_result"
    }
   ],
   "source": [
    "secret_df = df.copy() # In case of emergencies\n",
    "df.count()"
   ]
  },
  {
   "cell_type": "code",
   "execution_count": 3,
   "id": "f6ef4860",
   "metadata": {},
   "outputs": [],
   "source": [
    "\"\"\"\n",
    "The covid season has two october months, which the code above does not find. I add these months by iterating through this url_lst.\n",
    "\"\"\"\n",
    "url_lst = ['https://www.basketball-reference.com/leagues/NBA_2020_games-october-2019.html',\n",
    "          'https://www.basketball-reference.com/leagues/NBA_2020_games-october-2020.html']\n",
    "for url in url_lst:\n",
    "    yearMonth_table = pd.io.html.read_html(url)[0]\n",
    "    yearMonth_table['season_start_year'] = 2019\n",
    "    df = pd.concat([df, yearMonth_table])"
   ]
  },
  {
   "cell_type": "code",
   "execution_count": 4,
   "id": "4743b2ad",
   "metadata": {},
   "outputs": [
    {
     "name": "stderr",
     "output_type": "stream",
     "text": [
      "C:\\Users\\dkste\\AppData\\Local\\Temp\\ipykernel_25176\\1340948566.py:5: UserWarning: The argument 'infer_datetime_format' is deprecated and will be removed in a future version. A strict version of it is now the default, see https://pandas.pydata.org/pdeps/0004-consistent-to-datetime-parsing.html. You can safely remove this argument.\n",
      "  df['datetime'] = pd.to_datetime(df['Date'], infer_datetime_format=True)\n"
     ]
    }
   ],
   "source": [
    "#Fix date column\n",
    "df_backup = df.copy()\n",
    "df = df_backup.copy()\n",
    "df = df[df.Date!='Playoffs'].copy()\n",
    "df['datetime'] = pd.to_datetime(df['Date'], infer_datetime_format=True)"
   ]
  },
  {
   "cell_type": "code",
   "execution_count": 5,
   "id": "29c7bf8b",
   "metadata": {},
   "outputs": [],
   "source": [
    "\"\"\"\n",
    "Creates a variable for playoff and regular season games.\n",
    "\"\"\"\n",
    "playOffStart = {1996:'1997-04-24', 1997:'1998-04-23', 1998:'1999-05-08', 1999:'2000-04-22', 2000:'2001-04-21',\n",
    "               2001:'2002-04-20',2002:'2003-04-19', 2003:'2004-04-17', 2004:'2005-04-23', 2005:'2006-04-22',\n",
    "               2006: '2007-04-21', 2007:'2008-04-19', 2008:'2009-04-18', 2009:'2010-04-17', 2010:'2011-04-16',\n",
    "               2011:'2012-04-28', 2012:'2013-04-20', 2013:'2014-04-19', 2014:'2015-04-18', 2015:'2016-04-16',\n",
    "               2016:'2017-04-15', 2017:'2018-04-14', 2018:'2019-04-13', 2019:'2020-08-15', 2020:'2021-05-18', 2021:'2022-04-16', 2022:'2023-04-15'}\n",
    "\n",
    "df['playoff'] = df['season_start_year'].apply(lambda x: playOffStart[x])\n",
    "df['is_regular'] = df['playoff'] > df['datetime']\n",
    "df['is_regular'] = df['is_regular'].apply(lambda x: 1 if x else 0)\n",
    "df.drop(columns=['playoff'], inplace=True)"
   ]
  },
  {
   "cell_type": "code",
   "execution_count": 6,
   "id": "ff7bb48a",
   "metadata": {},
   "outputs": [],
   "source": [
    "# Remove exhibition games in 2018-19\n",
    "df[(df.season_start_year==2018)&(df.is_regular==1)&(df['Visitor/Neutral']=='Boston Celtics')].sort_values(by=['datetime'])\n",
    "df['d'] = df['datetime']> '2018-10-01'\n",
    "df['y'] = df['season_start_year'] != 2018\n",
    "df = df[(df['d'])|(df['y'])].copy()\n",
    "df.drop(columns=['d','y'], inplace=True)"
   ]
  },
  {
   "cell_type": "code",
   "execution_count": 7,
   "id": "b8749aa4",
   "metadata": {
    "scrolled": false
   },
   "outputs": [
    {
     "data": {
      "text/plain": [
       "seasonStartYear\n",
       "2022    1236\n",
       "2019      68\n",
       "Name: count, dtype: int64"
      ]
     },
     "execution_count": 7,
     "metadata": {},
     "output_type": "execute_result"
    }
   ],
   "source": [
    "\"\"\"The 2012 season has 1 fewer games due to the bombing at the Boston Marathon. \n",
    "Otherwise all the seasons have the correct number of games.\"\"\"\n",
    "\n",
    "df[(df['is_regular']==1)]['season_start_year'].value_counts()"
   ]
  },
  {
   "cell_type": "code",
   "execution_count": 8,
   "id": "445fe9c6",
   "metadata": {},
   "outputs": [],
   "source": [
    "# I drop Unnecessary columns\n",
    "df.drop(columns=['Unnamed: 5','Unnamed: 6', 'Unnamed: 7', 'Date'], inplace=True)"
   ]
  },
  {
   "cell_type": "code",
   "execution_count": 9,
   "id": "9e1b16e9",
   "metadata": {},
   "outputs": [],
   "source": [
    "#Create game_id\n",
    "df = df.sort_values(by='datetime')\n",
    "df['game_id'] = [str(uuid.uuid4()) for i in range(len(df))]"
   ]
  },
  {
   "cell_type": "code",
   "execution_count": 10,
   "id": "43442e81",
   "metadata": {},
   "outputs": [],
   "source": [
    "#Set column names\n",
    "df = df.set_axis(['season_start_year', 'away_team', 'points_away', 'home_team', 'points_home','attendance',\n",
    "            'notes', 'start_et', 'arena', 'datetime', 'is_regular', 'game_id'], axis=1)\n",
    "\n",
    "df = df.drop(columns=['arena'])\n",
    "df = df[df['season_start_year'] > 2018]"
   ]
  },
  {
   "cell_type": "code",
   "execution_count": 11,
   "id": "df7f503d",
   "metadata": {},
   "outputs": [],
   "source": [
    "#Upload with new file name\n",
    "df.to_csv('games-2023.csv', index = False)"
   ]
  }
 ],
 "metadata": {
  "kernelspec": {
   "display_name": "Python 3 (ipykernel)",
   "language": "python",
   "name": "python3"
  },
  "language_info": {
   "codemirror_mode": {
    "name": "ipython",
    "version": 3
   },
   "file_extension": ".py",
   "mimetype": "text/x-python",
   "name": "python",
   "nbconvert_exporter": "python",
   "pygments_lexer": "ipython3",
   "version": "3.11.4"
  }
 },
 "nbformat": 4,
 "nbformat_minor": 5
}
